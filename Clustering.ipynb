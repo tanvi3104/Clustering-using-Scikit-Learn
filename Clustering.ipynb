{
  "nbformat": 4,
  "nbformat_minor": 0,
  "metadata": {
    "colab": {
      "provenance": []
    },
    "kernelspec": {
      "name": "python3",
      "display_name": "Python 3"
    },
    "language_info": {
      "name": "python"
    }
  },
  "cells": [
    {
      "cell_type": "code",
      "execution_count": 5,
      "metadata": {
        "id": "nTsiAmvALUBm"
      },
      "outputs": [],
      "source": [
        "## 1. Import Libraries\n",
        "\n",
        "import numpy as np\n",
        "import pandas as pd\n",
        "import matplotlib.pyplot as plt\n",
        "import seaborn as sns\n",
        "\n",
        "from sklearn import datasets\n",
        "from sklearn.preprocessing import MinMaxScaler, StandardScaler\n",
        "from sklearn.decomposition import PCA\n",
        "from sklearn.cluster import KMeans, MeanShift, estimate_bandwidth, AgglomerativeClustering\n",
        "from sklearn.metrics import silhouette_score, calinski_harabasz_score, davies_bouldin_score\n",
        "\n",
        "import warnings\n",
        "warnings.filterwarnings('ignore')"
      ]
    },
    {
      "cell_type": "code",
      "source": [
        "## 2. Load Dataset\n",
        "\n",
        "data = datasets.load_iris()\n",
        "X = pd.DataFrame(data.data, columns=data.feature_names)\n",
        "y = data.target"
      ],
      "metadata": {
        "id": "rIqLDFDRQIrh"
      },
      "execution_count": 6,
      "outputs": []
    },
    {
      "cell_type": "code",
      "source": [
        "## 3. Preprocessing Functions\n",
        "\n",
        "def normalize(X):\n",
        "    return MinMaxScaler().fit_transform(X)\n",
        "\n",
        "def standardize(X):\n",
        "    return StandardScaler().fit_transform(X)\n",
        "\n",
        "def apply_pca(X, n_components=2):\n",
        "    return PCA(n_components=n_components).fit_transform(X)\n",
        "\n",
        "def transform_and_normalize(X):\n",
        "    return normalize(standardize(X))\n",
        "\n",
        "def transform_norm_pca(X):\n",
        "    return apply_pca(transform_and_normalize(X))"
      ],
      "metadata": {
        "id": "qsjn9eHLPWOn"
      },
      "execution_count": 7,
      "outputs": []
    },
    {
      "cell_type": "code",
      "source": [
        "## 4. Clustering Evaluation\n",
        "\n",
        "def evaluate_clustering(X, labels):\n",
        "    return {\n",
        "        'Silhouette': round(silhouette_score(X, labels), 2),\n",
        "        'Calinski-Harabasz': int(calinski_harabasz_score(X, labels)),\n",
        "        'Davies-Bouldin': round(davies_bouldin_score(X, labels), 2)\n",
        "    }"
      ],
      "metadata": {
        "id": "vjeVlOOyQQu5"
      },
      "execution_count": 8,
      "outputs": []
    },
    {
      "cell_type": "code",
      "source": [
        "## 5. Run Clustering\n",
        "\n",
        "def run_all_clustering(X, name):\n",
        "    results = []\n",
        "\n",
        "    # KMeans\n",
        "    for k in [3, 4, 5]:\n",
        "        model = KMeans(n_clusters=k, random_state=42).fit(X)\n",
        "        res = evaluate_clustering(X, model.labels_)\n",
        "        results.append(['KMeans', name, f'c={k}'] + list(res.values()))\n",
        "\n",
        "    # Hierarchical\n",
        "    for k in [3, 4, 5]:\n",
        "        model = AgglomerativeClustering(n_clusters=k).fit(X)\n",
        "        res = evaluate_clustering(X, model.labels_)\n",
        "        results.append(['Hierarchical', name, f'c={k}'] + list(res.values()))\n",
        "\n",
        "    # Mean Shift (auto bandwidth)\n",
        "    try:\n",
        "        ms = MeanShift(bandwidth=estimate_bandwidth(X, quantile=0.2)).fit(X)\n",
        "        res = evaluate_clustering(X, ms.labels_)\n",
        "        results.append(['MeanShift', name, f'c={len(np.unique(ms.labels_))}'] + list(res.values()))\n",
        "    except:\n",
        "        results.append(['MeanShift', name, 'c=NA', 'NA', 'NA', 'NA'])\n",
        "\n",
        "    return results"
      ],
      "metadata": {
        "id": "ji-bwq0JQTl6"
      },
      "execution_count": 9,
      "outputs": []
    },
    {
      "cell_type": "code",
      "source": [
        "## 6. All Variants of Data\n",
        "\n",
        "variants = {\n",
        "    'No Processing': X,\n",
        "    'Normalized': normalize(X),\n",
        "    'Transformed': standardize(X),\n",
        "    'PCA': apply_pca(X),\n",
        "    'T+N': transform_and_normalize(X),\n",
        "    'T+N+PCA': transform_norm_pca(X)\n",
        "}\n",
        "\n",
        "all_results = []\n",
        "\n",
        "for name, data_variant in variants.items():\n",
        "    res = run_all_clustering(data_variant, name)\n",
        "    all_results.extend(res)"
      ],
      "metadata": {
        "id": "McCpgL7sQXQ5"
      },
      "execution_count": 10,
      "outputs": []
    },
    {
      "cell_type": "code",
      "source": [
        "## 7. Results DataFrame\n",
        "\n",
        "results_df = pd.DataFrame(all_results, columns=['Method', 'Preprocessing', 'Clusters', 'Silhouette', 'Calinski-Harabasz', 'Davies-Bouldin'])\n",
        "\n",
        "# Display\n",
        "print(results_df)"
      ],
      "metadata": {
        "colab": {
          "base_uri": "https://localhost:8080/"
        },
        "id": "xN7QgPJwQcat",
        "outputId": "590939e6-0c5e-4328-b565-fe4c5b0c397e"
      },
      "execution_count": 11,
      "outputs": [
        {
          "output_type": "stream",
          "name": "stdout",
          "text": [
            "          Method  Preprocessing Clusters  Silhouette  Calinski-Harabasz  \\\n",
            "0         KMeans  No Processing      c=3        0.55                561   \n",
            "1         KMeans  No Processing      c=4        0.50                529   \n",
            "2         KMeans  No Processing      c=5        0.49                495   \n",
            "3   Hierarchical  No Processing      c=3        0.55                558   \n",
            "4   Hierarchical  No Processing      c=4        0.49                515   \n",
            "5   Hierarchical  No Processing      c=5        0.48                488   \n",
            "6      MeanShift  No Processing      c=2        0.69                509   \n",
            "7         KMeans     Normalized      c=3        0.48                351   \n",
            "8         KMeans     Normalized      c=4        0.44                313   \n",
            "9         KMeans     Normalized      c=5        0.42                263   \n",
            "10  Hierarchical     Normalized      c=3        0.50                349   \n",
            "11  Hierarchical     Normalized      c=4        0.43                301   \n",
            "12  Hierarchical     Normalized      c=5        0.35                272   \n",
            "13     MeanShift     Normalized      c=3        0.48                290   \n",
            "14        KMeans    Transformed      c=3        0.48                157   \n",
            "15        KMeans    Transformed      c=4        0.39                206   \n",
            "16        KMeans    Transformed      c=5        0.35                202   \n",
            "17  Hierarchical    Transformed      c=3        0.45                222   \n",
            "18  Hierarchical    Transformed      c=4        0.40                201   \n",
            "19  Hierarchical    Transformed      c=5        0.33                192   \n",
            "20     MeanShift    Transformed      c=4        0.36                133   \n",
            "21        KMeans            PCA      c=3        0.60                693   \n",
            "22        KMeans            PCA      c=4        0.56                719   \n",
            "23        KMeans            PCA      c=5        0.51                642   \n",
            "24  Hierarchical            PCA      c=3        0.60                688   \n",
            "25  Hierarchical            PCA      c=4        0.54                673   \n",
            "26  Hierarchical            PCA      c=5        0.55                665   \n",
            "27     MeanShift            PCA      c=3        0.56                614   \n",
            "28        KMeans            T+N      c=3        0.48                351   \n",
            "29        KMeans            T+N      c=4        0.44                313   \n",
            "30        KMeans            T+N      c=5        0.42                263   \n",
            "31  Hierarchical            T+N      c=3        0.50                349   \n",
            "32  Hierarchical            T+N      c=4        0.43                301   \n",
            "33  Hierarchical            T+N      c=5        0.35                272   \n",
            "34     MeanShift            T+N      c=3        0.48                290   \n",
            "35        KMeans        T+N+PCA      c=3        0.57                473   \n",
            "36        KMeans        T+N+PCA      c=4        0.53                450   \n",
            "37        KMeans        T+N+PCA      c=5        0.51                387   \n",
            "38  Hierarchical        T+N+PCA      c=3        0.55                423   \n",
            "39  Hierarchical        T+N+PCA      c=4        0.51                429   \n",
            "40  Hierarchical        T+N+PCA      c=5        0.43                421   \n",
            "41     MeanShift        T+N+PCA      c=4        0.50                351   \n",
            "\n",
            "    Davies-Bouldin  \n",
            "0             0.67  \n",
            "1             0.75  \n",
            "2             0.82  \n",
            "3             0.66  \n",
            "4             0.80  \n",
            "5             0.82  \n",
            "6             0.39  \n",
            "7             0.79  \n",
            "8             0.91  \n",
            "9             0.99  \n",
            "10            0.75  \n",
            "11            0.85  \n",
            "12            0.91  \n",
            "13            0.76  \n",
            "14            0.79  \n",
            "15            0.87  \n",
            "16            0.94  \n",
            "17            0.80  \n",
            "18            0.98  \n",
            "19            0.97  \n",
            "20            0.78  \n",
            "21            0.56  \n",
            "22            0.62  \n",
            "23            0.75  \n",
            "24            0.56  \n",
            "25            0.65  \n",
            "26            0.65  \n",
            "27            0.56  \n",
            "28            0.79  \n",
            "29            0.91  \n",
            "30            0.99  \n",
            "31            0.75  \n",
            "32            0.85  \n",
            "33            0.91  \n",
            "34            0.76  \n",
            "35            0.61  \n",
            "36            0.68  \n",
            "37            0.75  \n",
            "38            0.57  \n",
            "39            0.73  \n",
            "40            0.77  \n",
            "41            0.75  \n"
          ]
        }
      ]
    },
    {
      "cell_type": "code",
      "source": [
        "## 8. Visualization\n",
        "\n",
        "plt.figure(figsize=(12,6))\n",
        "sns.barplot(data=results_df[results_df['Method'] == 'KMeans'], x='Clusters', y='Silhouette', hue='Preprocessing')\n",
        "plt.title('KMeans Clustering - Silhouette Scores')\n",
        "plt.legend(bbox_to_anchor=(1.05, 1), loc='upper left')\n",
        "plt.show()\n",
        "\n",
        "## 9. Save CSV (Optional)\n",
        "\n",
        "# results_df.to_csv(\"clustering_comparison_results.csv\", index=False)"
      ],
      "metadata": {
        "colab": {
          "base_uri": "https://localhost:8080/",
          "height": 540
        },
        "id": "qVMBO2mHQepu",
        "outputId": "d3c0267f-17c6-4a92-a06c-89520c77e1d4"
      },
      "execution_count": 12,
      "outputs": [
        {
          "output_type": "display_data",
          "data": {
            "text/plain": [
              "<Figure size 1200x600 with 1 Axes>"
            ],
            "image/png": "[encoded data removed]"
          },
          "metadata": {}
        }
      ]
    }
  ]
}